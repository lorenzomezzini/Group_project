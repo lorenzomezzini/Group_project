import numpy as np
import pandas as pd
import bs4 as bs 
